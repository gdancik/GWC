{
 "cells": [
  {
   "cell_type": "markdown",
   "metadata": {
    "deletable": false,
    "editable": false
   },
   "source": [
    "# Python functions\n",
    "\n",
    "A *function* is a named set of statements with the following properties:\n",
    "\n",
    "- when a function is *called*, its statements are executed, and then control returns to line of code where the function was called\n",
    "- a function should serve a specific purpose\n",
    "- a function can be passed values as inputs; these values are known as *parameters* in the function definition, and *arguments* in the function call\n",
    "- as with *if* statements and loops, use indentation rather than braces to create a block of code for a function\n",
    "- a function can optionally return a value, which is specified using a 'return' statement \n",
    "\n",
    "\n",
    "A python function definition has the following format:\n",
    "\n",
    "```python\n",
    "def functionName(parameter1, parameter2, ....) :\n",
    "    \n",
    "    \"\"\"A comment describing the function\"\"\"\n",
    "\n",
    "    # statements to execute when the function is called\n",
    "    \n",
    "    return value\n",
    "```\n",
    "\n",
    "Note that parameters are optional and are only included if the function takes one or more inputs; the *return* statement is also optional.\n",
    "\n",
    "The code below uses a function to display a welcome message."
   ]
  },
  {
   "cell_type": "code",
   "execution_count": null,
   "metadata": {},
   "outputs": [],
   "source": [
    "def welcome() :\n",
    "  \"\"\"Prints a welcome message\"\"\"\n",
    "  \n",
    "  print('This script demonstrates how to write functions in Python')\n",
    "  print()\n",
    "\n",
    "print('First call the function:')\n",
    "welcome()  \n",
    "print('This is the end of this cell block.')"
   ]
  },
  {
   "cell_type": "markdown",
   "metadata": {
    "deletable": false,
    "editable": false
   },
   "source": [
    "The code below provides an example of a function that adds two numbers (in this case, the function has 2 parameters and returns a value)"
   ]
  },
  {
   "cell_type": "code",
   "execution_count": null,
   "metadata": {
    "deletable": false,
    "editable": false
   },
   "outputs": [],
   "source": [
    "def add(x,y) :\n",
    "    \"\"\"Returns the sum of x and y\"\"\"\n",
    "    return x + y\n",
    "\n",
    "# function returns the value 7, which is assigned to sum\n",
    "sum = add(3,4)\n",
    "\n",
    "print(\"The sum of 3 and 4 is:\", sum)\n",
    "\n",
    "# statement below does the same as above\n",
    "print(\"The sum of 3 and 4 is:\", add(3,4))"
   ]
  },
  {
   "cell_type": "markdown",
   "metadata": {
    "deletable": false,
    "editable": false
   },
   "source": [
    "### Docstrings\n",
    "\n",
    "A function docstring is a comment at the beginning of the function which documents the function and is displayed when python's *help* function is used. By convention, triple double quotes are used to denote the docstring and the first letter is capitalized."
   ]
  },
  {
   "cell_type": "code",
   "execution_count": null,
   "metadata": {
    "deletable": false,
    "editable": false
   },
   "outputs": [],
   "source": [
    "help(welcome)"
   ]
  },
  {
   "cell_type": "code",
   "execution_count": null,
   "metadata": {
    "deletable": false,
    "editable": false,
    "scrolled": true
   },
   "outputs": [],
   "source": [
    "help(add)"
   ]
  },
  {
   "cell_type": "markdown",
   "metadata": {
    "deletable": false,
    "editable": false
   },
   "source": [
    "### Exercise\n",
    "\n",
    "Write a function that takes a DNA sequence (a string) as input and returns *True* if the sequence includes the start codon 'ATG', or returns *False* otherwise. Your function should be case insensitive. Then use this function to output the sequences that contain a start codon."
   ]
  },
  {
   "cell_type": "code",
   "execution_count": null,
   "metadata": {},
   "outputs": [],
   "source": [
    "def hasStartCodon(sequence) :\n",
    "    \"\"\"Returns true if 'sequence' contains 'ATG' \"\"\"\n",
    "    \n",
    "    # TO DO: complete the function\n",
    "    \n",
    "    "
   ]
  },
  {
   "cell_type": "code",
   "execution_count": null,
   "metadata": {
    "deletable": false,
    "editable": false
   },
   "outputs": [],
   "source": [
    "sequences = ['ATGACG', 'ATTAGG', 'acatgat', 'gcccccaa', 'ggggatgacga']"
   ]
  },
  {
   "cell_type": "code",
   "execution_count": null,
   "metadata": {},
   "outputs": [],
   "source": [
    "print('The following sequences contain start codons:')\n",
    "\n",
    "# TO DO: iterate through each sequence and output it if it contains a start codon"
   ]
  },
  {
   "cell_type": "code",
   "execution_count": null,
   "metadata": {},
   "outputs": [],
   "source": []
  }
 ],
 "metadata": {
  "kernelspec": {
   "display_name": "Python 3",
   "language": "python",
   "name": "python3"
  },
  "language_info": {
   "codemirror_mode": {
    "name": "ipython",
    "version": 3
   },
   "file_extension": ".py",
   "mimetype": "text/x-python",
   "name": "python",
   "nbconvert_exporter": "python",
   "pygments_lexer": "ipython3",
   "version": "3.7.4"
  }
 },
 "nbformat": 4,
 "nbformat_minor": 2
}
